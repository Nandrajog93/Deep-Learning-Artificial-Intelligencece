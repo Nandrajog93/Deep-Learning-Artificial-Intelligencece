{
 "cells": [
  {
   "cell_type": "markdown",
   "metadata": {},
   "source": [
    "# Neural Netwrok"
   ]
  },
  {
   "cell_type": "code",
   "execution_count": 117,
   "metadata": {},
   "outputs": [],
   "source": [
    "import numpy as np #scientific computing library"
   ]
  },
  {
   "cell_type": "code",
   "execution_count": 118,
   "metadata": {},
   "outputs": [],
   "source": [
    "def nonlin(x,deriv=False):\n",
    "    if(deriv==True):\n",
    "        return x*(1-x)\n",
    "    return 1/(1+np.exp(-x))# here we define a funtion which take any valur from 0,1(this is we called sigmoid)"
   ]
  },
  {
   "cell_type": "code",
   "execution_count": 119,
   "metadata": {},
   "outputs": [],
   "source": [
    "#input  dataset\n",
    "X = np.array([[0,0,1],\n",
    "              [0,1,1],\n",
    "              [1,0,1],\n",
    "              [1,1,1]])"
   ]
  },
  {
   "cell_type": "code",
   "execution_count": 120,
   "metadata": {},
   "outputs": [],
   "source": [
    "#Output dataset\n",
    "y = np.array([[0],\n",
    "              [0],\n",
    "              [1],\n",
    "              [1]])\n",
    "#here we will transpose the array and it will give 4 row and 1 coulmn\n",
    "\n",
    "#one output neuron each"
   ]
  },
  {
   "cell_type": "code",
   "execution_count": 121,
   "metadata": {},
   "outputs": [],
   "source": [
    "\n",
    "#what this code will do it will generate random number everytime we run the progm[SEED]"
   ]
  },
  {
   "cell_type": "code",
   "execution_count": 122,
   "metadata": {},
   "outputs": [],
   "source": [
    "#Synapses \n",
    "syn0= 2*np.random.random((3,4))-1 #First layer of weights, Synapse 0, connecting l0 to l1.\n",
    "syn1 =2*np.random.random((4,1))-1  "
   ]
  },
  {
   "cell_type": "code",
   "execution_count": 123,
   "metadata": {},
   "outputs": [
    {
     "data": {
      "text/plain": [
       "array([[-0.57911986],\n",
       "       [-0.62637816],\n",
       "       [ 0.44821193],\n",
       "       [ 0.40493134]])"
      ]
     },
     "execution_count": 123,
     "metadata": {},
     "output_type": "execute_result"
    }
   ],
   "source": [
    "#training code\n",
    "for j in range(100000):  #for loop that iterate over training code\n",
    "    l0 = X #First layer of the network\n",
    "    #prediction test\n",
    "    l1 = nonlin(np.dot(l0, syn0)) #Hidden layer of netwrok\n",
    "    l2 = nonlin(np.dot(l1, syn1)) #Hidden layer of the netwrok\n",
    "    #in L1 we are going to perform matrix multiplication between each layer and synapse\n",
    "    \n",
    "    l2_error =y-l2 #error  rate\n",
    "    \n",
    "   # if (j%10000) ==0:\n",
    "    #    print(\"error:\" + str(np.mean(np.abs(l2_error)))) #print out the avg interval to make sure it goes down\n",
    "    #multiply the error rate with sigmoid function\n",
    "    l2_delta = l2_error*nonlin(l2, deriv =True)\n",
    "    l1_error = l2_delta.dot(syn1.T) ### BACKPROPOGATION\n",
    "    l1_delta = l1_error*nonlin(l1,deriv=True)\n",
    "                \n",
    "                \n",
    "l2_error"
   ]
  },
  {
   "cell_type": "code",
   "execution_count": 124,
   "metadata": {},
   "outputs": [],
   "source": [
    "#update weight\n",
    "\n",
    "#gradient descent\n",
    "syn1= l1.T.dot(l2_delta)+syn1 #multiply each layer by delta\n",
    "syn0= l0.T.dot(l1_delta)+syn0"
   ]
  },
  {
   "cell_type": "code",
   "execution_count": 125,
   "metadata": {},
   "outputs": [
    {
     "name": "stdout",
     "output_type": "stream",
     "text": [
      "[[0.57911986]\n",
      " [0.62637816]\n",
      " [0.55178807]\n",
      " [0.59506866]]\n"
     ]
    }
   ],
   "source": [
    "print(l2)"
   ]
  },
  {
   "cell_type": "code",
   "execution_count": null,
   "metadata": {},
   "outputs": [],
   "source": []
  }
 ],
 "metadata": {
  "kernelspec": {
   "display_name": "Python 3",
   "language": "python",
   "name": "python3"
  },
  "language_info": {
   "codemirror_mode": {
    "name": "ipython",
    "version": 3
   },
   "file_extension": ".py",
   "mimetype": "text/x-python",
   "name": "python",
   "nbconvert_exporter": "python",
   "pygments_lexer": "ipython3",
   "version": "3.6.5"
  }
 },
 "nbformat": 4,
 "nbformat_minor": 2
}

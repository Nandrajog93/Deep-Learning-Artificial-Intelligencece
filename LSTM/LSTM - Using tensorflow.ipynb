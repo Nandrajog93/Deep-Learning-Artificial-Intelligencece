{
 "cells": [
  {
   "cell_type": "markdown",
   "metadata": {},
   "source": [
    "# LSTM -->> Using TfLearn"
   ]
  },
  {
   "cell_type": "code",
   "execution_count": 1,
   "metadata": {
    "scrolled": true
   },
   "outputs": [
    {
     "name": "stderr",
     "output_type": "stream",
     "text": [
      "/anaconda3/lib/python3.6/site-packages/h5py/__init__.py:36: FutureWarning: Conversion of the second argument of issubdtype from `float` to `np.floating` is deprecated. In future, it will be treated as `np.float64 == np.dtype(float).type`.\n",
      "  from ._conv import register_converters as _register_converters\n"
     ]
    }
   ],
   "source": [
    "import os\n",
    "from __future__ import absolute_import, division, print_function\n",
    "from six import moves\n",
    "import ssl #long short term memory\n",
    "import tflearn\n",
    "from tflearn.data_utils import *\n"
   ]
  },
  {
   "cell_type": "code",
   "execution_count": 1,
   "metadata": {},
   "outputs": [
    {
     "name": "stdout",
     "output_type": "stream",
     "text": [
      "Training Step: 19439  | total loss: \u001b[1m\u001b[32m0.11719\u001b[0m\u001b[0m | time: 587.496s\n",
      "| Adam | epoch: 040 | loss: 0.11719 -- iter: 62080/62106\n",
      "Training Step: 19440  | total loss: \u001b[1m\u001b[32m0.11585\u001b[0m\u001b[0m | time: 612.513s\n",
      "| Adam | epoch: 040 | loss: 0.11585 | val_loss: 0.08202 -- iter: 62106/62106\n",
      "--\n",
      "INFO:tensorflow:/Users/nandrajog/Siraj /model_us_cities-19440 is not in all_model_checkpoint_paths. Manually adding it.\n",
      "WARNING:tensorflow:Issue encountered when serializing layer_tensor/LSTM.\n",
      "Type is unsupported, or the types of the items don't match field type in CollectionDef. Note this is a warning and probably safe to ignore.\n",
      "'list' object has no attribute 'name'\n",
      "WARNING:tensorflow:Issue encountered when serializing layer_tensor/Dropout.\n",
      "Type is unsupported, or the types of the items don't match field type in CollectionDef. Note this is a warning and probably safe to ignore.\n",
      "'list' object has no attribute 'name'\n",
      "-- TESTING...\n",
      "-- Test with temperature of 1.2 --\n",
      "ey Lake\n",
      "Berkey\n",
      "Berklfield\n",
      "Berkice\n",
      "Berkie\n",
      "Berkingto\n",
      "-- Test with temperature of 1.0 --\n",
      "ey Lake\n",
      "Berkey\n",
      "Berkley\n",
      "Bermington\n",
      "Bermingers\n",
      "Bermi\n",
      "-- Test with temperature of 0.5 --\n",
      "ey Lake\n",
      "Berkey\n",
      "Berkley\n",
      "Berming\n",
      "Bernington\n",
      "Berning\n",
      "\n"
     ]
    }
   ],
   "source": [
    "from __future__ import absolute_import, division, print_function\n",
    "\n",
    "import os\n",
    "from six import moves\n",
    "import ssl\n",
    "import tflearn\n",
    "from tflearn.data_utils import *\n",
    "\n",
    "path = \"US_Cities.txt\"\n",
    "if not os.path.isfile(path):\n",
    "    context = ssl._create_unverified_context()\n",
    "    moves.urllib.request.urlretrieve(\"https://raw.githubusercontent.com/tflearn/tflearn.github.io/master/resources/US_Cities.txt\", path, context=context)\n",
    "\n",
    "maxlen = 20\n",
    "\n",
    "X, Y, char_idx = \\\n",
    "    textfile_to_semi_redundant_sequences(path, seq_maxlen=maxlen, redun_step=3)\n",
    "\n",
    "g = tflearn.input_data(shape=[None, maxlen, len(char_idx)])\n",
    "g = tflearn.lstm(g, 512, return_seq=True)\n",
    "#converging on identitcal positions\n",
    "g = tflearn.dropout(g, 0.5)\n",
    "g = tflearn.lstm(g, 512)\n",
    "g = tflearn.dropout(g, 0.5)\n",
    "g = tflearn.fully_connected(g, len(char_idx), activation='softmax')\n",
    "g = tflearn.regression(g, optimizer='adam', loss='categorical_crossentropy',\n",
    "                       learning_rate=0.001)\n",
    "\n",
    "m = tflearn.SequenceGenerator(g, dictionary=char_idx,\n",
    "                              seq_maxlen=maxlen,\n",
    "                              clip_gradients=5.0,\n",
    "                              checkpoint_path='model_us_cities')\n",
    "\n",
    "#training\n",
    "for i in range(40):\n",
    "    seed = random_sequence_from_textfile(path, maxlen)\n",
    "    m.fit(X, Y, validation_set=0.1, batch_size=128,\n",
    "          n_epoch=1, run_id='us_cities')\n",
    "    print(\"-- TESTING...\")\n",
    "    print(\"-- Test with temperature of 1.2 --\")\n",
    "    print(m.generate(30, temperature=1.2, seq_seed=seed))\n",
    "    print(\"-- Test with temperature of 1.0 --\")\n",
    "    print(m.generate(30, temperature=1.0, seq_seed=seed))\n",
    "    print(\"-- Test with temperature of 0.5 --\")\n",
    "    print(m.generate(30, temperature=0.5, seq_seed=seed))"
   ]
  },
  {
   "cell_type": "code",
   "execution_count": null,
   "metadata": {},
   "outputs": [],
   "source": []
  }
 ],
 "metadata": {
  "kernelspec": {
   "display_name": "Python 3",
   "language": "python",
   "name": "python3"
  },
  "language_info": {
   "codemirror_mode": {
    "name": "ipython",
    "version": 3
   },
   "file_extension": ".py",
   "mimetype": "text/x-python",
   "name": "python",
   "nbconvert_exporter": "python",
   "pygments_lexer": "ipython3",
   "version": "3.6.5"
  }
 },
 "nbformat": 4,
 "nbformat_minor": 2
}
